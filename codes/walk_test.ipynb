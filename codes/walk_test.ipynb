{
 "nbformat": 4,
 "nbformat_minor": 2,
 "metadata": {
  "language_info": {
   "name": "python",
   "codemirror_mode": {
    "name": "ipython",
    "version": 3
   },
   "version": "3.7.4-final"
  },
  "orig_nbformat": 2,
  "file_extension": ".py",
  "mimetype": "text/x-python",
  "name": "python",
  "npconvert_exporter": "python",
  "pygments_lexer": "ipython3",
  "version": 3,
  "kernelspec": {
   "name": "python36764bitfastaiconda45e5babfd28c4aaf8458c4c4e8135151",
   "display_name": "Python 3.6.7 64-bit ('fastai': conda)"
  }
 },
 "cells": [
  {
   "cell_type": "code",
   "execution_count": 1,
   "metadata": {},
   "outputs": [],
   "source": [
    "from fastai.vision import *\n",
    "import numpy as np\n",
    "from PIL import ImageGrab\n",
    "import cv2\n",
    "import time\n",
    "import pyautogui\n",
    "from numpy import ones,vstack\n",
    "from numpy.linalg import lstsq\n",
    "from statistics import mean\n",
    "from mss import mss\n",
    "from directkeys import PressKey, ReleaseKey, W, A, S, D\n",
    "import pyautogui"
   ]
  },
  {
   "cell_type": "code",
   "execution_count": 2,
   "metadata": {},
   "outputs": [],
   "source": [
    "directory = r'D:/DeepACS/dataset'\n",
    "temp_directory = r'D:/DeepACS/codes'\n",
    "path = Path(directory)\n",
    "temp_path = Path(temp_directory)\n",
    "learn = load_learner(path)"
   ]
  },
  {
   "cell_type": "code",
   "execution_count": 3,
   "metadata": {},
   "outputs": [],
   "source": [
    "def straight():\n",
    "    PressKey(W)\n",
    "    ReleaseKey(A)\n",
    "    ReleaseKey(D)\n",
    "\n",
    "def left():\n",
    "    PressKey(A)\n",
    "    #ReleaseKey(W)#\n",
    "    ReleaseKey(D)\n",
    "    #ReleaseKey(A)   # Basically tapping the key 'A' once\n",
    "    #ReleaseKey(W)\n",
    "\n",
    "def right():\n",
    "    PressKey(D)\n",
    "    #ReleaseKey(W)#\n",
    "    ReleaseKey(A)\n",
    "    #ReleaseKey(D)   # Basically tapping the key 'A' once\n",
    "    #ReleaseKey(W)\n",
    "\n",
    "def stop():\n",
    "    ReleaseKey(W)\n",
    "    ReleaseKey(A)\n",
    "    ReleaseKey(D)"
   ]
  },
  {
   "cell_type": "code",
   "execution_count": 10,
   "metadata": {},
   "outputs": [
    {
     "name": "stdout",
     "output_type": "stream",
     "text": "ture FPS = 4\nA\nCapture FPS = 7\nA\nCapture FPS = 6\nA\nCapture FPS = 6\nA\nCapture FPS = 7\nA\nCapture FPS = 7\nA\nCapture FPS = 7\nA\nCapture FPS = 4\nA\nCapture FPS = 6\nA\nCapture FPS = 5\nA\nCapture FPS = 6\nD\nCapture FPS = 8\nD\nCapture FPS = 7\nD\nCapture FPS = 6\nD\nCapture FPS = 7\nD\nCapture FPS = 7\nD\nCapture FPS = 8\nD\nCapture FPS = 6\nD\nCapture FPS = 7\nD\nCapture FPS = 8\nD\nCapture FPS = 6\nNone\nCapture FPS = 8\nNone\nCapture FPS = 7\nA\nCapture FPS = 7\nA\nCapture FPS = 6\nNone\nCapture FPS = 6\nA\nCapture FPS = 6\nA\nCapture FPS = 9\nA\nCapture FPS = 6\nA\nCapture FPS = 7\nA\nCapture FPS = 8\nD\nCapture FPS = 5\nD\nCapture FPS = 5\nD\nCapture FPS = 7\nD\nCapture FPS = 6\nD\nCapture FPS = 7\nD\nCapture FPS = 6\nD\nCapture FPS = 8\nD\nCapture FPS = 6\nD\nCapture FPS = 7\nD\nCapture FPS = 7\nA\nCapture FPS = 6\nA\nCapture FPS = 6\nA\nCapture FPS = 7\nA\nCapture FPS = 8\nA\nCapture FPS = 8\nA\nCapture FPS = 7\nA\nCapture FPS = 7\nA\nCapture FPS = 7\nA\nCapture FPS = 6\nA\nCapture FPS = 7\nA\nCapture FPS = 7\nA\nCapture FPS = 7\nD\nCapture FPS = 7\nD\nCapture FPS = 7\nD\nCapture FPS = 7\nD\nCapture FPS = 7\nD\nCapture FPS = 7\nD\nCapture FPS = 7\nD\nCapture FPS = 7\nD\nCapture FPS = 5\nD\nCapture FPS = 6\nNone\nCapture FPS = 6\nD\nCapture FPS = 6\nA\nCapture FPS = 7\nNone\nCapture FPS = 7\nA\nCapture FPS = 7\nA\nCapture FPS = 6\nA\nCapture FPS = 6\nA\nCapture FPS = 6\nA\nCapture FPS = 7\nA\nCapture FPS = 7\nA\nCapture FPS = 8\nNone\nCapture FPS = 7\nD\nCapture FPS = 7\nD\nCapture FPS = 7\nD\nCapture FPS = 7\nNone\nCapture FPS = 7\nD\nCapture FPS = 7\nD\nCapture FPS = 6\nD\nCapture FPS = 8\nNone\nCapture FPS = 7\nD\nCapture FPS = 8\nD\nCapture FPS = 7\nD\nCapture FPS = 7\nD\nCapture FPS = 6\nA\nCapture FPS = 9\nA\nCapture FPS = 7\nA\nCapture FPS = 7\nA\nCapture FPS = 7\nA\nCapture FPS = 7\nA\nCapture FPS = 7\nA\nCapture FPS = 7\nA\nCapture FPS = 7\nA\nCapture FPS = 5\nA\nCapture FPS = 6\nD\nCapture FPS = 6\nD\nCapture FPS = 7\nA\nCapture FPS = 4\nD\nCapture FPS = 6\nD\nCapture FPS = 7\nD\nCapture FPS = 8\nD\nCapture FPS = 8\nD\nCapture FPS = 7\nD\nCapture FPS = 7\nD\nCapture FPS = 8\nD\nCapture FPS = 7\nD\nCapture FPS = 8\nD\nCapture FPS = 7\nNone\nCapture FPS = 6\nNone\nCapture FPS = 7\nD\nCapture FPS = 7\nD\nCapture FPS = 6\nNone\nCapture FPS = 7\nNone\nCapture FPS = 6\nNone\nCapture FPS = 7\nNone\nCapture FPS = 6\nA\nCapture FPS = 6\nNone\nCapture FPS = 9\nNone\nCapture FPS = 7\nA\nCapture FPS = 7\nNone\nCapture FPS = 7\nNone\nCapture FPS = 7\nA\nCapture FPS = 7\nA\nCapture FPS = 7\nA\nCapture FPS = 7\nA\nCapture FPS = 6\nA\nCapture FPS = 7\nNone\nCapture FPS = 5\nA\nCapture FPS = 8\nA\nCapture FPS = 8\nA\nCapture FPS = 7\nA\nCapture FPS = 9\nA\nCapture FPS = 7\nA\nCapture FPS = 7\nD\nCapture FPS = 7\nD\nCapture FPS = 6\nD\nCapture FPS = 9\nD\nCapture FPS = 9\nD\nCapture FPS = 6\nD\nCapture FPS = 8\nD\nCapture FPS = 9\nD\nCapture FPS = 7\nD\nCapture FPS = 9\nD\nCapture FPS = 8\nD\nCapture FPS = 7\nNone\nCapture FPS = 7\nNone\nCapture FPS = 9\nNone\nCapture FPS = 6\nNone\nCapture FPS = 9\nA\nCapture FPS = 9\nA\nCapture FPS = 6\nA\nCapture FPS = 8\nA\nCapture FPS = 7\nA\nCapture FPS = 8\nA\nCapture FPS = 7\nA\nCapture FPS = 7\nA\nCapture FPS = 7\nA\nCapture FPS = 7\nA\nCapture FPS = 7\nA\nCapture FPS = 7\nD\nCapture FPS = 7\nA\nCapture FPS = 7\nD\nCapture FPS = 9\nD\nCapture FPS = 8\nD\nCapture FPS = 7\nD\nCapture FPS = 7\nNone\nCapture FPS = 8\nD\nCapture FPS = 7\nD\nCapture FPS = 8\nD\nCapture FPS = 9\nD\nCapture FPS = 9\nNone\nCapture FPS = 8\nD\nCapture FPS = 9\nD\nCapture FPS = 7\nD\nCapture FPS = 6\nD\nCapture FPS = 8\nD\nCapture FPS = 8\nD\nCapture FPS = 7\nD\nCapture FPS = 8\nA\nCapture FPS = 8\nA\nCapture FPS = 8\nA\nCapture FPS = 9\nA\nCapture FPS = 7\nA\nCapture FPS = 9\nA\nCapture FPS = 7\nA\nCapture FPS = 8\nA\nCapture FPS = 6\nA\nCapture FPS = 7\nA\nCapture FPS = 10\nA\nCapture FPS = 6\nA\nCapture FPS = 6\nA\nCapture FPS = 7\nA\nCapture FPS = 7\nA\nCapture FPS = 9\nA\nCapture FPS = 5\nNone\nCapture FPS = 6\nD\nCapture FPS = 9\nD\nCapture FPS = 6\nD\nCapture FPS = 10\nD\nCapture FPS = 9\nD\nCapture FPS = 8\nD\nCapture FPS = 7\nD\nCapture FPS = 6\nD\nCapture FPS = 7\nD\nCapture FPS = 9\nD\nCapture FPS = 6\nD\nCapture FPS = 7\nD\nCapture FPS = 9\nD\nCapture FPS = 5\nNone\nCapture FPS = 7\nA\nCapture FPS = 9\nA\nCapture FPS = 8\nA\nCapture FPS = 6\nA\nCapture FPS = 7\nA\nCapture FPS = 8\nA\nCapture FPS = 8\nA\nCapture FPS = 7\nA\nCapture FPS = 5\nA\nCapture FPS = 7\nA\nCapture FPS = 6\nA\nCapture FPS = 9\nNone\nCapture FPS = 7\nNone\nCapture FPS = 7\nNone\nCapture FPS = 6\nNone\nCapture FPS = 8\nD\nCapture FPS = 7\nNone\nCapture FPS = 8\nNone\nCapture FPS = 6\nNone\nCapture FPS = 5\nD\nCapture FPS = 7\nD\nCapture FPS = 6\nD\nCapture FPS = 10\nD\nCapture FPS = 10\nD\nCapture FPS = 7\nD\nCapture FPS = 7\nD\nCapture FPS = 6\nNone\nCapture FPS = 7\nA\nCapture FPS = 8\nA\nCapture FPS = 5\nA\nCapture FPS = 7\nA\nCapture FPS = 9\nA\nCapture FPS = 6\nA\nCapture FPS = 10\nA\nCapture FPS = 8\nA\nCapture FPS = 7\nA\nCapture FPS = 7\nD\nCapture FPS = 8\nD\nCapture FPS = 9\nD\nCapture FPS = 7\nD\nCapture FPS = 9\nD\nCapture FPS = 7\nD\nCapture FPS = 7\nA\nCapture FPS = 7\nA\nCapture FPS = 8\nA\nCapture FPS = 8\nD\nCapture FPS = 9\nD\nCapture FPS = 10\nD\nCapture FPS = 9\nNone\nCapture FPS = 7\nNone\nCapture FPS = 8\nNone\nCapture FPS = 8\nD\nCapture FPS = 7\nA\nCapture FPS = 8\nA\nCapture FPS = 8\nNone\nCapture FPS = 10\nA\nCapture FPS = 9\nA\nCapture FPS = 8\nD\nCapture FPS = 8\nA\nCapture FPS = 8\nA\nCapture FPS = 6\nD\nCapture FPS = 7\nD\nCapture FPS = 8\nD\nCapture FPS = 6\nD\nCapture FPS = 10\nD\nCapture FPS = 7\nD\nCapture FPS = 8\nD\nCapture FPS = 9\nD\nCapture FPS = 8\nD\nCapture FPS = 7\nA\nCapture FPS = 6\nA\nCapture FPS = 9\nA\nCapture FPS = 8\nA\nCapture FPS = 7\nA\nCapture FPS = 9\nA\nCapture FPS = 9\nA\nCapture FPS = 8\nA\nCapture FPS = 8\nA\nCapture FPS = 9\nA\nCapture FPS = 7\nA\nCapture FPS = 9\nA\nCapture FPS = 8\nA\nCapture FPS = 6\nA\nCapture FPS = 6\nD\nCapture FPS = 5\nD\nCapture FPS = 6\nD\nCapture FPS = 9\nD\nCapture FPS = 9\nD\nCapture FPS = 8\nD\nCapture FPS = 7\nD\nCapture FPS = 10\nD\nCapture FPS = 9\nD\nCapture FPS = 9\nD\nCapture FPS = 6\nA\nCapture FPS = 9\nA\nCapture FPS = 7\nD\nCapture FPS = 9\nNone\nCapture FPS = 7\nD\nCapture FPS = 8\nNone\nCapture FPS = 9\nNone\nCapture FPS = 6\nNone\nCapture FPS = 7\nD\nCapture FPS = 9\nD\nCapture FPS = 7\nNone\nCapture FPS = 9\nD\nCapture FPS = 7\nNone\nCapture FPS = 7\nNone\nCapture FPS = 9\nA\nCapture FPS = 7\nNone\nCapture FPS = 7\nA\nCapture FPS = 8\nA\nCapture FPS = 9\nA\nCapture FPS = 8\nA\nCapture FPS = 7\nA\nCapture FPS = 8\nA\nCapture FPS = 8\nA\nCapture FPS = 9\nA\nCapture FPS = 7\nA\nCapture FPS = 7\nD\nCapture FPS = 9\nD\nCapture FPS = 7\nD\nCapture FPS = 8\nD\nCapture FPS = 7\nD\nCapture FPS = 7\nD\nCapture FPS = 10\nD\nCapture FPS = 7\nD\nCapture FPS = 7\nD\nCapture FPS = 9\nD\nCapture FPS = 10\nD\nCapture FPS = 8\nD\nCapture FPS = 7\nA\nCapture FPS = 10\nA\nCapture FPS = 9\nNone\nCapture FPS = 7\nA\nCapture FPS = 6\nA\nCapture FPS = 8\nA\nCapture FPS = 7\nA\nCapture FPS = 9\nA\nCapture FPS = 8\nA\nCapture FPS = 7\nA\nCapture FPS = 10\nA\nCapture FPS = 7\nA\nCapture FPS = 6\nA\nCapture FPS = 9\nA\nCapture FPS = 9\nD\nCapture FPS = 7\nD\nCapture FPS = 7\nD\nCapture FPS = 7\nD\nCapture FPS = 7\nNone\nCapture FPS = 7\nD\nCapture FPS = 7\nD\nCapture FPS = 7\nD\nCapture FPS = 10\nD\nCapture FPS = 8\nD\nCapture FPS = 7\nD\nCapture FPS = 8\nD\nCapture FPS = 9\nD\nCapture FPS = 9\nA\nCapture FPS = 7\nA\nCapture FPS = 8\nA\nCapture FPS = 8\nA\nCapture FPS = 8\nA\nCapture FPS = 9\nA\nCapture FPS = 8\nA\nCapture FPS = 9\nA\nCapture FPS = 8\nA\nCapture FPS = 9\nA\nCapture FPS = 7\nA\nCapture FPS = 7\nD\nCapture FPS = 8\nD\nCapture FPS = 7\nD\nCapture FPS = 7\nD\nCapture FPS = 7\nD\nCapture FPS = 8\nD\nCapture FPS = 9\nNone\nCapture FPS = 8\nD\nCapture FPS = 10\nD\nCapture FPS = 7\nD\nCapture FPS = 7\nD\nCapture FPS = 8\nD\nCapture FPS = 9\nNone\nCapture FPS = 9\nA\nCapture FPS = 9\nA\nCapture FPS = 8\nA\nCapture FPS = 7\nA\nCapture FPS = 10\nA\nCapture FPS = 9\nA\nCapture FPS = 9\nA\nCapture FPS = 6\nA\nCapture FPS = 9\nA\nCapture FPS = 7\nA\nCapture FPS = 7\nA\nCapture FPS = 9\nD\nCapture FPS = 8\nD\nCapture FPS = 8\nD\nCapture FPS = 8\nD\nCapture FPS = 8\nD\nCapture FPS = 8\nNone\nCapture FPS = 8\nD\nCapture FPS = 9\nD\nCapture FPS = 7\nD\nCapture FPS = 7\nD\nCapture FPS = 7\nD\nCapture FPS = 8\nD\nCapture FPS = 8\nNone\nCapture FPS = 9\nNone\nCapture FPS = 9\nNone\nCapture FPS = 8\nNone\nCapture FPS = 9\nNone\nCapture FPS = 7\nNone\nCapture FPS = 10\nA\nCapture FPS = 9\nA\nCapture FPS = 11\nA\nCapture FPS = 7\nA\nCapture FPS = 9\nA\nCapture FPS = 8\nA\nCapture FPS = 9\nA\nCapture FPS = 7\nA\nCapture FPS = 8\nA\nCapture FPS = 9\nD\nCapture FPS = 7\nD\nCapture FPS = 7\nD\nCapture FPS = 7\nD\nCapture FPS = 9\nD\nCapture FPS = 8\nD\nCapture FPS = 7\nD\nCapture FPS = 8\nD\nCapture FPS = 8\nD\nCapture FPS = 10\nNone\nCapture FPS = 7\nNone\nCapture FPS = 9\nNone\nCapture FPS = 9\nNone\nCapture FPS = 8\nNone\nCapture FPS = 9\nNone\nCapture FPS = 6\nA\nCapture FPS = 10\nA\nCapture FPS = 7\nA\nCapture FPS = 8\nA\nCapture FPS = 8\nA\nCapture FPS = 7\nA\nCapture FPS = 9\nA\nCapture FPS = 9\nA\nCapture FPS = 8\nA\nCapture FPS = 9\nA\nCapture FPS = 9\nD\nCapture FPS = 7\nA\nCapture FPS = 7\nD\nCapture FPS = 6\nD\nCapture FPS = 7\nD\nCapture FPS = 10\nNone\nCapture FPS = 5\nD\nCapture FPS = 8\nNone\nCapture FPS = 9\nA\nCapture FPS = 10\nNone\nCapture FPS = 7\nNone\nCapture FPS = 9\nA\nCapture FPS = 7\nNone\nCapture FPS = 6\nD\nCapture FPS = 5\nD\nCapture FPS = 6\nD\nCapture FPS = 9\nD\nCapture FPS = 8\nNone\nCapture FPS = 7\nD\nCapture FPS = 8\nD\nCapture FPS = 8\nD\nCapture FPS = 7\nD\nCapture FPS = 9\nNone\nCapture FPS = 8\nNone\nCapture FPS = 8\nNone\nCapture FPS = 8\nNone\nCapture FPS = 9\nA\nCapture FPS = 8\nNone\nCapture FPS = 9\nNone\nCapture FPS = 8\nNone\nCapture FPS = 9\nNone\nCapture FPS = 8\nNone\nCapture FPS = 9\nA\nCapture FPS = 7\nNone\nCapture FPS = 7\nA\nCapture FPS = 9\nNone\nCapture FPS = 8\nA\nCapture FPS = 9\nA\nCapture FPS = 9\nA\nCapture FPS = 9\nA\nCapture FPS = 7\nA\nCapture FPS = 8\nA\nCapture FPS = 7\nA\nCapture FPS = 6\nA\nCapture FPS = 7\nD\nCapture FPS = 7\nD\nCapture FPS = 7\nD\nCapture FPS = 9\nD\nCapture FPS = 8\nNone\nCapture FPS = 7\nD\nCapture FPS = 7\nD\nCapture FPS = 8\nD\nCapture FPS = 8\nD\nCapture FPS = 9\nNone\nCapture FPS = 8\nNone\nCapture FPS = 7\nNone\nCapture FPS = 9\nNone\nCapture FPS = 7\nNone\nCapture FPS = 7\nNone\nCapture FPS = 8\nNone\nCapture FPS = 9\nA\nCapture FPS = 10\nA\nCapture FPS = 8\nA\nCapture FPS = 7\nA\nCapture FPS = 8\nA\nCapture FPS = 7\nA\nCapture FPS = 9\nA\nCapture FPS = 7\nA\nCapture FPS = 6\nD\nCapture FPS = 9\nD\nCapture FPS = 6\nD\nCapture FPS = 7\nD\nCapture FPS = 9\nNone\nCapture FPS = 7\nD\nCapture FPS = 7\nD\nCapture FPS = 7\nD\nCapture FPS = 6\nA\nCapture FPS = 10\nA\nCapture FPS = 7\nNone\nCapture FPS = 7\nA\nCapture FPS = 7\nA\nCapture FPS = 7\nA\nCapture FPS = 7\nA\nCapture FPS = 10\nA\nCapture FPS = 10\nA\nCapture FPS = 8\nA\nCapture FPS = 8\nA\nCapture FPS = 7\nNone\nCapture FPS = 9\nA\nCapture FPS = 8\nA\nCapture FPS = 8\nA\nCapture FPS = 8\nD\nCapture FPS = 9\nD\nCapture FPS = 10\nD\nCapture FPS = 7\nD\nCapture FPS = 6\nD\nCapture FPS = 9\nD\nCapture FPS = 7\nD\nCapture FPS = 8\nD\nCapture FPS = 7\nD\nCapture FPS = 7\nA\nCapture FPS = 10\nD\nCapture FPS = 9\nD\nCapture FPS = 8\nNone\nCapture FPS = 8\nD\nCapture FPS = 8\nD\nCapture FPS = 7\nNone\nCapture FPS = 9\nNone\nCapture FPS = 8\nNone\nCapture FPS = 7\nNone\nCapture FPS = 7\nNone\nCapture FPS = 7\nNone\nCapture FPS = 10\nNone\nCapture FPS = 8\nA\nCapture FPS = 9\nA\nCapture FPS = 8\nA\nCapture FPS = 8\nNone\nCapture FPS = 8\nNone\nCapture FPS = 9\nNone\nCapture FPS = 7\nA\nCapture FPS = 9\nA\nCapture FPS = 8\nA\nCapture FPS = 7\nD\nCapture FPS = 7\nNone\nCapture FPS = 8\nD\nCapture FPS = 8\nD\nCapture FPS = 8\nD\nCapture FPS = 9\nD\nCapture FPS = 6\nD\nCapture FPS = 8\nD\nCapture FPS = 8\nD\nCapture FPS = 7\nD\nCapture FPS = 9\nD\nCapture FPS = 9\nD\nCapture FPS = 8\nNone\nCapture FPS = 7\nNone\nCapture FPS = 8\nNone\nCapture FPS = 8\nNone\nCapture FPS = 8\nNone\nCapture FPS = 11\nNone\nCapture FPS = 8\nNone\nCapture FPS = 9\nNone\nCapture FPS = 9\nNone\nCapture FPS = 7\nNone\nCapture FPS = 7\nNone\nCapture FPS = 10\nA\nCapture FPS = 9\nA\nCapture FPS = 10\nA\nCapture FPS = 7\nA\nCapture FPS = 10\nD\nCapture FPS = 7\nA\nCapture FPS = 9\nD\nCapture FPS = 11\nA\nCapture FPS = 8\nNone\nCapture FPS = 7\nNone\nCapture FPS = 9\nA\nCapture FPS = 9\nNone\nCapture FPS = 7\nA\nCapture FPS = 8\nA\nCapture FPS = 10\nA\nCapture FPS = 8\nA\nCapture FPS = 7\nA\nCapture FPS = 8\nA\nCapture FPS = 8\nA\nCapture FPS = 7\nNone\nCapture FPS = 9\nD\nCapture FPS = 8\nD\nCapture FPS = 10\nNone\nCapture FPS = 7\nD\nCapture FPS = 9\nD\nCapture FPS = 6\nD\nCapture FPS = 9\nD\nCapture FPS = 10\nD\nCapture FPS = 9\nD\nCapture FPS = 8\nD\nCapture FPS = 8\nD\nCapture FPS = 8\nD\nCapture FPS = 7\nD\nCapture FPS = 9\nD\nCapture FPS = 7\nNone\nCapture FPS = 9\nD\nCapture FPS = 8\nA\nCapture FPS = 9\nA\nCapture FPS = 7\nA\nCapture FPS = 8\nA\nCapture FPS = 7\nA\nCapture FPS = 10\nA\nCapture FPS = 9\nA\nCapture FPS = 8\nA\nCapture FPS = 9\nNone\nCapture FPS = 8\nNone\nCapture FPS = 8\nNone\nCapture FPS = 8\nA\nCapture FPS = 8\nD\nCapture FPS = 11\nD\nCapture FPS = 9\nNone\nCapture FPS = 7\nD\nCapture FPS = 9\nD\nCapture FPS = 9\nD\nCapture FPS = 7\nD\nCapture FPS = 8\nD\nCapture FPS = 8\nD\nCapture FPS = 8\nD\nCapture FPS = 10\nD\nCapture FPS = 10\nD\nCapture FPS = 7\nA\nCapture FPS = 7\nD\nCapture FPS = 10\nD\nCapture FPS = 7\nD\nCapture FPS = 8\nD\nCapture FPS = 9\nNone\nCapture FPS = 10\nD\nCapture FPS = 8\nD\nCapture FPS = 8\nA\nCapture FPS = 10\nA\nCapture FPS = 8\nD\nCapture FPS = 7\nA\nCapture FPS = 10\nA\nCapture FPS = 7\nNone\nCapture FPS = 9\nA\nCapture FPS = 8\nA\nCapture FPS = 8\nA\nCapture FPS = 7\nA\nCapture FPS = 8\nA\nCapture FPS = 11\nA\nCapture FPS = 10\nA\nCapture FPS = 8\nA\nCapture FPS = 9\nA\nCapture FPS = 7\nA\nCapture FPS = 9\nA\nCapture FPS = 10\nA\nCapture FPS = 8\nA\nCapture FPS = 8\nA\nCapture FPS = 9\nA\nCapture FPS = 7\nA\nCapture FPS = 7\nA\nCapture FPS = 10\nA\nCapture FPS = 8\nA\nCapture FPS = 8\nA\nCapture FPS = 8\nA\nCapture FPS = 8\nD\nCapture FPS = 8\nA\nCapture FPS = 9\nA\nCapture FPS = 8\nD\nCapture FPS = 8\nD\nCapture FPS = 8\nA\nCapture FPS = 8\nA\nCapture FPS = 8\nD\nCapture FPS = 7\nA\nCapture FPS = 10\nA\nCapture FPS = 7\nD\nCapture FPS = 10\nA\nCapture FPS = 7\nD\nCapture FPS = 9\nA\nCapture FPS = 8\nA\nCapture FPS = 7\nD\nCapture FPS = 9\nA\nCapture FPS = 6\nA\nCapture FPS = 8\nD\nCapture FPS = 9\nA\nCapture FPS = 8\nD\nCapture FPS = 8\nA\nCapture FPS = 9\nA\nCapture FPS = 9\nD\nCapture FPS = 8\nA\nCapture FPS = 7\nD\nCapture FPS = 8\nA\nCapture FPS = 8\nA\nCapture FPS = 10\nD\nCapture FPS = 8\nA\nCapture FPS = 9\nA\nCapture FPS = 8\nD\nCapture FPS = 8\nA\nCapture FPS = 7\nA\nCapture FPS = 8\nD\nCapture FPS = 9\nA\nCapture FPS = 9\nA\nCapture FPS = 8\nD\nCapture FPS = 9\nA\nCapture FPS = 8\nA\nCapture FPS = 8\nD\nCapture FPS = 8\nA\nCapture FPS = 7\nA\nCapture FPS = 9\nD\nCapture FPS = 8\nA\nCapture FPS = 9\nA\nCapture FPS = 8\nA\nCapture FPS = 9\nA\nCapture FPS = 8\nA\nCapture FPS = 7\nA\nCapture FPS = 6\nA\nCapture FPS = 8\nA\nCapture FPS = 7\nD\nCapture FPS = 9\nD\nCapture FPS = 7\nD\nCapture FPS = 7\nD\nCapture FPS = 9\nD\nCapture FPS = 8\nD\nCapture FPS = 8\nD\nCapture FPS = 9\nD\nCapture FPS = 11\nD\nCapture FPS = 7\nD\nCapture FPS = 6\nD\nCapture FPS = 8\nD\nCapture FPS = 9\nD\nCapture FPS = 7\nD\nCapture FPS = 8\nD\nCapture FPS = 5\nD\nCapture FPS = 7\nD\nCapture FPS = 9\nD\nCapture FPS = 7\nD\nCapture FPS = 10\nD\nCapture FPS = 9\nD\nCapture FPS = 7\nD\nCapture FPS = 8\nD\nCapture FPS = 8\nD\nCapture FPS = 9\nD\nCapture FPS = 8\nD\nCapture FPS = 8\nD\nCapture FPS = 8\nA\nCapture FPS = 9\nA\nCapture FPS = 11\nA\nCapture FPS = 9\nD\nCapture FPS = 9\nD\nCapture FPS = 8\nA\nCapture FPS = 9\nD\nCapture FPS = 9\nA\nCapture FPS = 9\nD\nCapture FPS = 7\nD\nCapture FPS = 8\nD\nCapture FPS = 7\nD\nCapture FPS = 10\nD\nCapture FPS = 8\nD\nCapture FPS = 8\nD\nCapture FPS = 10\nD\nCapture FPS = 9\nD\nCapture FPS = 9\nD\nCapture FPS = 7\nNone\nCapture FPS = 10\nA\nCapture FPS = 10\nNone\nCapture FPS = 9\nNone\nCapture FPS = 7\nD\nCapture FPS = 10\nD\nCapture FPS = 9\nA\nCapture FPS = 10\nNone\nCapture FPS = 9\nD\nCapture FPS = 9\nA\nCapture FPS = 8\nA\nCapture FPS = 9\nNone\nCapture FPS = 11\nNone\nCapture FPS = 10\nD\nCapture FPS = 8\nD\nCapture FPS = 8\nNone\nCapture FPS = 8\nNone\nCapture FPS = 8\nNone\nCapture FPS = 8\nNone\nCapture FPS = 8\nNone\nCapture FPS = 8\nNone\nCapture FPS = 9\nNone\nCapture FPS = 8\nNone\nCapture FPS = 8\nNone\nCapture FPS = 8\nNone\nCapture FPS = 8\nNone\nCapture FPS = 9\nNone\nCapture FPS = 8\nNone\nCapture FPS = 11\nNone\nCapture FPS = 13\nD\nCapture FPS = 10\nNone\nCapture FPS = 10\nNone\nCapture FPS = 9\nNone\nCapture FPS = 10\nNone\nCapture FPS = 12\nNone\nCapture FPS = 9\nNone\nCapture FPS = 11\nNone\nCapture FPS = 10\nNone\nCapture FPS = 10\nNone\nCapture FPS = 12\nNone\nCapture FPS = 10\nNone\nCapture FPS = 10\nA\nCapture FPS = 11\nA\nCapture FPS = 12\nA\nCapture FPS = 12\nA\nCapture FPS = 11\nA\nCapture FPS = 10\nA\nCapture FPS = 11\nA\nCapture FPS = 10\nA\nCapture FPS = 12\nA\nCapture FPS = 10\nA\nCapture FPS = 9\nA\nCapture FPS = 10\nA\nCapture FPS = 10\nA\nCapture FPS = 11\nA\nCapture FPS = 12\nA\nCapture FPS = 11\nA\nCapture FPS = 12\nA\nCapture FPS = 11\nA\nCapture FPS = 12\nA\nCapture FPS = 11\nA\nCapture FPS = 10\nA\nCapture FPS = 11\nA\nCapture FPS = 10\nA\nCapture FPS = 9\nA\nCapture FPS = 10\nA\nCapture FPS = 11\nA\nCapture FPS = 10\nA\nCapture FPS = 13\nA\nCapture FPS = 9\nA\nCapture FPS = 11\nA\nCapture FPS = 12\nA\nCapture FPS = 11\nA\nCapture FPS = 12\nA\nCapture FPS = 11\nA\nCapture FPS = 11\nNone\nCapture FPS = 10\nA\nCapture FPS = 10\nNone\nCapture FPS = 9\nNone\nCapture FPS = 10\nNone\nCapture FPS = 10\nA\nCapture FPS = 10\nNone\nCapture FPS = 11\nNone\nCapture FPS = 10\nNone\nCapture FPS = 10\nA\nCapture FPS = 13\nA\nCapture FPS = 10\nNone\nCapture FPS = 10\nA\nCapture FPS = 12\nA\nCapture FPS = 11\nA\nCapture FPS = 12\nA\nCapture FPS = 10\nA\nCapture FPS = 10\nA\nCapture FPS = 10\nA\nCapture FPS = 11\nA\nCapture FPS = 11\nA\nCapture FPS = 10\nA\nCapture FPS = 11\nA\nCapture FPS = 10\nA\nCapture FPS = 12\nA\nCapture FPS = 10\nA\nCapture FPS = 12\nA\nCapture FPS = 12\nA\nCapture FPS = 11\nA\nCapture FPS = 12\nA\nCapture FPS = 9\nA\nCapture FPS = 11\nA\nCapture FPS = 11\nA\nCapture FPS = 10\nA\nCapture FPS = 12\nA\nCapture FPS = 10\nA\nCapture FPS = 11\nA\nCapture FPS = 10\nA\nCapture FPS = 12\nA\nCapture FPS = 9\nA\nCapture FPS = 11\nA\nCapture FPS = 11\nA\nCapture FPS = 13\nA\nCapture FPS = 11\nA\nCapture FPS = 12\nA\nCapture FPS = 11\nA\nCapture FPS = 9\nA\nCapture FPS = 13\nA\nCapture FPS = 11\nA\nCapture FPS = 9\nA\nCapture FPS = 12\nA\nCapture FPS = 10\nA\nCapture FPS = 9\nA\nCapture FPS = 11\nA\nCapture FPS = 12\nA\nCapture FPS = 11\nA\nCapture FPS = 13\nA\nCapture FPS = 11\nA\nCapture FPS = 12\nA\nCapture FPS = 11\nA\nCapture FPS = 12\nA\nCapture FPS = 10\nA\nCapture FPS = 10\nA\nCapture FPS = 11\nNone\nCapture FPS = 12\nNone\nCapture FPS = 10\nNone\nCapture FPS = 10\nNone\nCapture FPS = 11\nNone\nCapture FPS = 10\nNone\nCapture FPS = 12\nNone\nCapture FPS = 11\nNone\nCapture FPS = 12\nNone\nCapture FPS = 11\nNone\nCapture FPS = 13\nNone\nCapture FPS = 11\nNone\nCapture FPS = 10\nNone\nCapture FPS = 12\nNone\nCapture FPS = 10\nNone\nCapture FPS = 11\nNone\nCapture FPS = 10\nNone\nCapture FPS = 12\nNone\nCapture FPS = 11\nNone\nCapture FPS = 12\nNone\nCapture FPS = 9\nNone\nCapture FPS = 10\nNone\nCapture FPS = 12\nNone\nCapture FPS = 12\nNone\nCapture FPS = 11\nNone\nCapture FPS = 12\nNone\nCapture FPS = 10\nNone\nCapture FPS = 11\nNone\nCapture FPS = 12\nNone\nCapture FPS = 9\nNone\nCapture FPS = 10\nNone\nCapture FPS = 10\nNone\nCapture FPS = 10\nNone\nCapture FPS = 11\nNone\nCapture FPS = 12\nNone\nCapture FPS = 9\nNone\nCapture FPS = 10\nNone\nCapture FPS = 11\nNone\nCapture FPS = 12\nNone\nCapture FPS = 12\nNone\nCapture FPS = 11\nNone\nCapture FPS = 10\nNone\nCapture FPS = 10\nNone\nCapture FPS = 10\nNone\nCapture FPS = 12\nNone\nCapture FPS = 11\nNone\nCapture FPS = 10\nNone\nCapture FPS = 10\nNone\nCapture FPS = 12\nNone\nCapture FPS = 9\nNone\nCapture FPS = 10\nNone\nCapture FPS = 9\nNone\nCapture FPS = 11\nNone\nCapture FPS = 12\nNone\nCapture FPS = 11\nNone\nCapture FPS = 12\nNone\nCapture FPS = 12\nNone\nCapture FPS = 12\nNone\nCapture FPS = 11\nNone\nCapture FPS = 10\nNone\nCapture FPS = 12\nNone\nCapture FPS = 10\nNone\nCapture FPS = 11\nNone\nCapture FPS = 10\nNone\nCapture FPS = 10\nNone\nCapture FPS = 12\nNone\nCapture FPS = 10\nNone\nCapture FPS = 10\nNone\nCapture FPS = 14\nNone\nCapture FPS = 10\nNone\nCapture FPS = 13\nNone\nCapture FPS = 11\nNone\nCapture FPS = 12\nNone\nCapture FPS = 11\nNone\nCapture FPS = 12\nNone\nCapture FPS = 9\nNone\nCapture FPS = 10\nNone\nCapture FPS = 10\nNone\nCapture FPS = 11\nNone\nCapture FPS = 12\nNone\nCapture FPS = 10\nNone\nCapture FPS = 10\nNone\nCapture FPS = 11\nNone\nCapture FPS = 12\nNone\nCapture FPS = 11\nA\nCapture FPS = 12\nA\nCapture FPS = 9\nNone\nCapture FPS = 10\nNone\nCapture FPS = 10\nNone\nCapture FPS = 10\nA\nCapture FPS = 9\nA\nCapture FPS = 9\nA\nCapture FPS = 10\nA\nCapture FPS = 10\nA\nCapture FPS = 11\nNone\nCapture FPS = 9\nNone\nCapture FPS = 10\nA\nCapture FPS = 11\nNone\nCapture FPS = 11\nA\nCapture FPS = 12\nA\nCapture FPS = 10\nA\nCapture FPS = 10\nA\nCapture FPS = 11\nA\nCapture FPS = 9\nA\nCapture FPS = 10\nA\nCapture FPS = 13\nA\nCapture FPS = 11\nNone\nCapture FPS = 12\nA\nCapture FPS = 10\nA\nCapture FPS = 11\nA\nCapture FPS = 15\nA\nCapture FPS = 14\nA\nCapture FPS = 15\nA\nCapture FPS = 14\nA\nCapture FPS = 15\nA\nCapture FPS = 15\nA\nCapture FPS = 15\nA\nCapture FPS = 20\nNone\nCapture FPS = 20\nA\nCapture FPS = 15\nA\nCapture FPS = 16\nA\nCapture FPS = 19\nA\nCapture FPS = 18\nA\nCapture FPS = 20\nA\n"
    }
   ],
   "source": [
    "for i in list(range(0, 4))[::-1]:\n",
    "    print(i + 1)\n",
    "    time.sleep(1)\n",
    "\n",
    "monitor = {'top' : 40, 'left' : 0, 'width' : 800, 'height' : 600}\n",
    "sct = mss()\n",
    "last_time = time.time()\n",
    "\n",
    "# in this main loop we do precessing\n",
    "while(True):\n",
    "    sct_image = sct.grab(monitor)\n",
    "    screen1 = np.array(sct_image)\n",
    "    screen = cv2.cvtColor(screen1, cv2.COLOR_BGR2GRAY)\n",
    "    screen = cv2.resize(screen, (80, 60))\n",
    "    print(\"Capture FPS = \" + str(int(1/(time.time() - last_time))))\n",
    "    last_time = time.time()\n",
    "    ##cv2.imshow('capture', new_screen)\n",
    "\n",
    "    # Predictions\n",
    "    cv2.imwrite('temp_img.jpg', screen)\n",
    "    img = open_image(temp_path/'temp_img.jpg')\n",
    "    pred_class,pred_idx,outputs = learn.predict(img)\n",
    "    print(pred_class)\n",
    "\n",
    "    if str(pred_class) == 'D':\n",
    "        right()\n",
    "    elif str(pred_class) == 'A':\n",
    "        left()\n",
    "    elif str(pred_class) == 'None':\n",
    "        straight()\n",
    "\n",
    "    cv2.imshow('capture', screen)\n",
    "    if cv2.waitKey(25) & 0xFF == ord('q'):\n",
    "        cv2.destroyAllWindows()\n",
    "        break"
   ]
  },
  {
   "cell_type": "code",
   "execution_count": null,
   "metadata": {},
   "outputs": [],
   "source": []
  },
  {
   "cell_type": "code",
   "execution_count": null,
   "metadata": {},
   "outputs": [],
   "source": []
  }
 ]
}