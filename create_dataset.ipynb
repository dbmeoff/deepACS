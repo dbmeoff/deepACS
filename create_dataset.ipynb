{
 "nbformat": 4,
 "nbformat_minor": 2,
 "metadata": {
  "language_info": {
   "name": "python",
   "codemirror_mode": {
    "name": "ipython",
    "version": 3
   },
   "version": "3.7.4-final"
  },
  "orig_nbformat": 2,
  "file_extension": ".py",
  "mimetype": "text/x-python",
  "name": "python",
  "npconvert_exporter": "python",
  "pygments_lexer": "ipython3",
  "version": 3,
  "kernelspec": {
   "name": "python36764bitfastaiconda45e5babfd28c4aaf8458c4c4e8135151",
   "display_name": "Python 3.6.7 64-bit ('fastai': conda)"
  }
 },
 "cells": [
  {
   "cell_type": "code",
   "execution_count": 3,
   "metadata": {},
   "outputs": [
    {
     "name": "stdout",
     "output_type": "stream",
     "text": "pture FPS = 37\nCapture FPS = 28\nCapture FPS = 37\nCapture FPS = 29\nCapture FPS = 31\nCapture FPS = 32\nCapture FPS = 35\nCapture FPS = 33\nCapture FPS = 31\nCapture FPS = 38\nCapture FPS = 29\nCapture FPS = 28\nCapture FPS = 30\nCapture FPS = 32\nCapture FPS = 29\nCapture FPS = 26\nCapture FPS = 30\nCapture FPS = 33\nCapture FPS = 31\nCapture FPS = 49\nCapture FPS = 33\nCapture FPS = 30\nCapture FPS = 24\nCapture FPS = 30\nCapture FPS = 30\nCapture FPS = 28\nCapture FPS = 28\nCapture FPS = 33\nCapture FPS = 32\nCapture FPS = 38\nCapture FPS = 34\nCapture FPS = 31\nCapture FPS = 34\nCapture FPS = 27\nCapture FPS = 22\nCapture FPS = 21\nCapture FPS = 26\nCapture FPS = 27\nCapture FPS = 32\nCapture FPS = 35\nCapture FPS = 34\nCapture FPS = 47\nCapture FPS = 26\nCapture FPS = 28\nCapture FPS = 25\nCapture FPS = 28\nCapture FPS = 30\nCapture FPS = 32\nCapture FPS = 27\nCapture FPS = 35\nCapture FPS = 34\nCapture FPS = 38\nCapture FPS = 48\nCapture FPS = 34\nCapture FPS = 24\nCapture FPS = 30\nCapture FPS = 31\nCapture FPS = 26\nCapture FPS = 31\nCapture FPS = 31\nCapture FPS = 33\nCapture FPS = 32\nCapture FPS = 31\nCapture FPS = 30\nCapture FPS = 35\nCapture FPS = 31\nCapture FPS = 25\nCapture FPS = 31\nCapture FPS = 29\nCapture FPS = 24\nCapture FPS = 37\nCapture FPS = 37\nCapture FPS = 30\nCapture FPS = 30\nCapture FPS = 34\nCapture FPS = 28\nCapture FPS = 28\nCapture FPS = 32\nCapture FPS = 31\nCapture FPS = 30\nCapture FPS = 30\nCapture FPS = 29\nCapture FPS = 29\nCapture FPS = 30\nCapture FPS = 42\nCapture FPS = 37\nCapture FPS = 30\nCapture FPS = 24\nCapture FPS = 33\nCapture FPS = 30\nCapture FPS = 30\nCapture FPS = 35\nCapture FPS = 35\nCapture FPS = 25\nCapture FPS = 23\nCapture FPS = 45\nCapture FPS = 35\nCapture FPS = 48\nCapture FPS = 30\nCapture FPS = 22\nCapture FPS = 24\nCapture FPS = 29\nCapture FPS = 32\nCapture FPS = 29\nCapture FPS = 24\nCapture FPS = 44\nCapture FPS = 33\nCapture FPS = 33\nCapture FPS = 30\nCapture FPS = 30\nCapture FPS = 35\nCapture FPS = 27\nCapture FPS = 32\nCapture FPS = 31\nCapture FPS = 30\nCapture FPS = 24\nCapture FPS = 31\nCapture FPS = 32\nCapture FPS = 32\nCapture FPS = 35\nCapture FPS = 28\nCapture FPS = 27\nCapture FPS = 29\nCapture FPS = 39\nCapture FPS = 29\nCapture FPS = 35\nCapture FPS = 30\nCapture FPS = 27\nCapture FPS = 28\nCapture FPS = 40\nCapture FPS = 38\nCapture FPS = 45\nCapture FPS = 27\nCapture FPS = 28\nCapture FPS = 29\nCapture FPS = 30\nCapture FPS = 27\nCapture FPS = 30\nCapture FPS = 32\nCapture FPS = 27\nCapture FPS = 37\nCapture FPS = 33\nCapture FPS = 32\nCapture FPS = 27\nCapture FPS = 28\nCapture FPS = 31\nCapture FPS = 28\nCapture FPS = 38\nCapture FPS = 34\nCapture FPS = 30\nCapture FPS = 34\nCapture FPS = 31\nCapture FPS = 34\nCapture FPS = 31\nCapture FPS = 32\nCapture FPS = 47\nCapture FPS = 28\nCapture FPS = 29\nCapture FPS = 27\nCapture FPS = 27\nCapture FPS = 43\nCapture FPS = 28\nCapture FPS = 33\nCapture FPS = 36\nCapture FPS = 33\nCapture FPS = 28\nCapture FPS = 34\nCapture FPS = 26\nCapture FPS = 32\nCapture FPS = 24\nCapture FPS = 39\nCapture FPS = 32\nCapture FPS = 33\nDataset size : 14000\nCapture FPS = 0\nCapture FPS = 28\nCapture FPS = 35\nCapture FPS = 27\nCapture FPS = 27\nCapture FPS = 26\nCapture FPS = 20\nCapture FPS = 23\nCapture FPS = 25\nCapture FPS = 23\nCapture FPS = 26\nCapture FPS = 29\nCapture FPS = 21\nCapture FPS = 21\nCapture FPS = 26\nCapture FPS = 27\nCapture FPS = 30\nCapture FPS = 20\nCapture FPS = 21\nCapture FPS = 32\nCapture FPS = 35\nCapture FPS = 28\nCapture FPS = 26\nCapture FPS = 24\nCapture FPS = 32\nCapture FPS = 35\nCapture FPS = 28\nCapture FPS = 25\nCapture FPS = 37\nCapture FPS = 35\nCapture FPS = 38\nCapture FPS = 27\nCapture FPS = 29\nCapture FPS = 20\nCapture FPS = 19\nCapture FPS = 22\nCapture FPS = 25\nCapture FPS = 33\nCapture FPS = 31\nCapture FPS = 30\nCapture FPS = 33\nCapture FPS = 21\nCapture FPS = 36\nCapture FPS = 26\nCapture FPS = 32\nCapture FPS = 21\nCapture FPS = 25\nCapture FPS = 35\nCapture FPS = 41\nCapture FPS = 27\nCapture FPS = 26\nCapture FPS = 29\nCapture FPS = 32\nCapture FPS = 30\nCapture FPS = 29\nCapture FPS = 25\nCapture FPS = 22\nCapture FPS = 34\nCapture FPS = 34\nCapture FPS = 34\nCapture FPS = 24\nCapture FPS = 20\nCapture FPS = 24\nCapture FPS = 23\nCapture FPS = 21\nCapture FPS = 20\nCapture FPS = 30\nCapture FPS = 24\nCapture FPS = 28\nCapture FPS = 11\nCapture FPS = 27\nCapture FPS = 16\nCapture FPS = 21\nCapture FPS = 39\nCapture FPS = 32\nCapture FPS = 32\nCapture FPS = 27\nCapture FPS = 23\nCapture FPS = 20\nCapture FPS = 25\nCapture FPS = 21\nCapture FPS = 29\nCapture FPS = 17\nCapture FPS = 26\nCapture FPS = 16\nCapture FPS = 25\nCapture FPS = 17\nCapture FPS = 17\nCapture FPS = 18\nCapture FPS = 21\nCapture FPS = 39\nCapture FPS = 25\nCapture FPS = 16\nCapture FPS = 20\nCapture FPS = 33\nCapture FPS = 30\nCapture FPS = 20\nCapture FPS = 18\nCapture FPS = 22\nCapture FPS = 17\nCapture FPS = 22\nCapture FPS = 18\nCapture FPS = 21\nCapture FPS = 22\nCapture FPS = 17\nCapture FPS = 29\nCapture FPS = 27\nCapture FPS = 38\nCapture FPS = 25\nCapture FPS = 16\nCapture FPS = 18\nCapture FPS = 22\nCapture FPS = 24\nCapture FPS = 29\nCapture FPS = 31\nCapture FPS = 26\nCapture FPS = 15\nCapture FPS = 19\nCapture FPS = 18\nCapture FPS = 20\nCapture FPS = 22\nCapture FPS = 30\nCapture FPS = 27\nCapture FPS = 17\nCapture FPS = 24\nCapture FPS = 25\nCapture FPS = 24\nCapture FPS = 28\nCapture FPS = 23\nCapture FPS = 33\nCapture FPS = 38\nCapture FPS = 34\nCapture FPS = 25\nCapture FPS = 25\nCapture FPS = 30\nCapture FPS = 28\nCapture FPS = 19\nCapture FPS = 28\nCapture FPS = 30\nCapture FPS = 34\nCapture FPS = 33\nCapture FPS = 43\nCapture FPS = 28\nCapture FPS = 33\nCapture FPS = 27\nCapture FPS = 30\nCapture FPS = 29\nCapture FPS = 21\nCapture FPS = 29\nCapture FPS = 28\nCapture FPS = 30\nCapture FPS = 29\nCapture FPS = 28\nCapture FPS = 27\nCapture FPS = 33\nCapture FPS = 30\nCapture FPS = 28\nCapture FPS = 31\nCapture FPS = 19\nCapture FPS = 24\nCapture FPS = 38\nCapture FPS = 34\nCapture FPS = 24\nCapture FPS = 28\nCapture FPS = 30\nCapture FPS = 30\nCapture FPS = 30\nCapture FPS = 30\nCapture FPS = 29\nCapture FPS = 24\nCapture FPS = 34\nCapture FPS = 33\nCapture FPS = 33\nCapture FPS = 32\nCapture FPS = 27\nCapture FPS = 24\nCapture FPS = 22\nCapture FPS = 25\nCapture FPS = 28\nCapture FPS = 30\nCapture FPS = 27\nCapture FPS = 33\nCapture FPS = 37\nCapture FPS = 28\nCapture FPS = 27\nCapture FPS = 23\nCapture FPS = 31\nCapture FPS = 21\nCapture FPS = 25\nCapture FPS = 24\nCapture FPS = 24\nCapture FPS = 33\nCapture FPS = 36\nCapture FPS = 19\nCapture FPS = 28\nCapture FPS = 21\nCapture FPS = 23\nCapture FPS = 30\nCapture FPS = 29\nCapture FPS = 33\nCapture FPS = 28\nCapture FPS = 26\nCapture FPS = 23\nCapture FPS = 21\nCapture FPS = 20\nCapture FPS = 21\nCapture FPS = 27\nCapture FPS = 17\nCapture FPS = 25\nCapture FPS = 36\nCapture FPS = 24\nCapture FPS = 24\nCapture FPS = 25\nCapture FPS = 38\nCapture FPS = 32\nCapture FPS = 31\nCapture FPS = 22\nCapture FPS = 39\nCapture FPS = 32\nCapture FPS = 29\nCapture FPS = 27\nCapture FPS = 24\nCapture FPS = 26\nCapture FPS = 29\nCapture FPS = 37\nCapture FPS = 31\nCapture FPS = 30\nCapture FPS = 35\nCapture FPS = 33\nCapture FPS = 21\nCapture FPS = 23\nCapture FPS = 24\nCapture FPS = 22\nCapture FPS = 22\nCapture FPS = 18\nCapture FPS = 22\nCapture FPS = 33\nCapture FPS = 32\nCapture FPS = 27\nCapture FPS = 29\nCapture FPS = 23\nCapture FPS = 20\nCapture FPS = 21\nCapture FPS = 25\nCapture FPS = 25\nCapture FPS = 27\nCapture FPS = 33\nCapture FPS = 28\nCapture FPS = 18\nCapture FPS = 13\nCapture FPS = 20\nCapture FPS = 19\nCapture FPS = 25\nCapture FPS = 37\nCapture FPS = 28\nCapture FPS = 27\nCapture FPS = 27\nCapture FPS = 23\nCapture FPS = 22\nCapture FPS = 25\nCapture FPS = 20\nCapture FPS = 27\nCapture FPS = 38\nCapture FPS = 27\nCapture FPS = 28\nCapture FPS = 22\nCapture FPS = 23\nCapture FPS = 20\nCapture FPS = 24\nCapture FPS = 21\nCapture FPS = 28\nCapture FPS = 30\nCapture FPS = 28\nCapture FPS = 30\nCapture FPS = 22\nCapture FPS = 24\nCapture FPS = 19\nCapture FPS = 21\nCapture FPS = 19\nCapture FPS = 25\nCapture FPS = 31\nCapture FPS = 26\nCapture FPS = 23\nCapture FPS = 14\nCapture FPS = 15\nCapture FPS = 25\nCapture FPS = 27\nCapture FPS = 34\nCapture FPS = 30\nCapture FPS = 25\nCapture FPS = 26\nCapture FPS = 20\nCapture FPS = 25\nCapture FPS = 36\nCapture FPS = 14\nCapture FPS = 22\nCapture FPS = 24\nCapture FPS = 23\nCapture FPS = 18\nCapture FPS = 22\nCapture FPS = 22\nCapture FPS = 20\nCapture FPS = 25\nCapture FPS = 26\nCapture FPS = 34\nCapture FPS = 27\nCapture FPS = 31\nCapture FPS = 22\nCapture FPS = 25\nCapture FPS = 36\nCapture FPS = 31\nCapture FPS = 20\nCapture FPS = 28\nCapture FPS = 33\nCapture FPS = 28\nCapture FPS = 29\nCapture FPS = 28\nCapture FPS = 24\nCapture FPS = 23\nCapture FPS = 22\nCapture FPS = 20\nCapture FPS = 30\nCapture FPS = 31\nCapture FPS = 28\nCapture FPS = 31\nCapture FPS = 26\nCapture FPS = 24\nCapture FPS = 29\nCapture FPS = 22\nCapture FPS = 30\nCapture FPS = 19\nCapture FPS = 24\nCapture FPS = 33\nCapture FPS = 21\nCapture FPS = 21\nCapture FPS = 26\nCapture FPS = 29\nCapture FPS = 19\nCapture FPS = 23\nCapture FPS = 28\nCapture FPS = 43\nCapture FPS = 33\nCapture FPS = 21\nCapture FPS = 18\nCapture FPS = 18\nCapture FPS = 15\nCapture FPS = 20\nCapture FPS = 23\nCapture FPS = 19\nCapture FPS = 24\nCapture FPS = 17\nCapture FPS = 26\nCapture FPS = 25\nCapture FPS = 17\nCapture FPS = 24\nCapture FPS = 35\nCapture FPS = 26\nCapture FPS = 29\nCapture FPS = 16\nCapture FPS = 18\nCapture FPS = 21\nCapture FPS = 23\nCapture FPS = 17\nCapture FPS = 20\nCapture FPS = 18\nCapture FPS = 27\nCapture FPS = 30\nCapture FPS = 19\nCapture FPS = 25\nCapture FPS = 22\nCapture FPS = 32\nCapture FPS = 41\nCapture FPS = 33\nCapture FPS = 25\nCapture FPS = 20\nCapture FPS = 25\nCapture FPS = 24\nCapture FPS = 27\nCapture FPS = 21\nCapture FPS = 31\nCapture FPS = 23\nCapture FPS = 34\nCapture FPS = 26\nCapture FPS = 27\nCapture FPS = 16\nCapture FPS = 19\nCapture FPS = 26\nCapture FPS = 30\nCapture FPS = 32\nCapture FPS = 30\nCapture FPS = 36\nCapture FPS = 28\nCapture FPS = 21\nCapture FPS = 20\nCapture FPS = 17\nCapture FPS = 26\nCapture FPS = 18\nCapture FPS = 23\nCapture FPS = 29\nCapture FPS = 22\nCapture FPS = 20\nCapture FPS = 21\nCapture FPS = 19\nCapture FPS = 21\nCapture FPS = 25\nCapture FPS = 25\nCapture FPS = 28\nCapture FPS = 27\nCapture FPS = 22\nCapture FPS = 27\nCapture FPS = 20\nCapture FPS = 21\nCapture FPS = 28\nCapture FPS = 17\nCapture FPS = 26\nCapture FPS = 35\nCapture FPS = 26\nCapture FPS = 16\nCapture FPS = 28\nCapture FPS = 22\nCapture FPS = 25\nCapture FPS = 24\nCapture FPS = 29\nCapture FPS = 32\nCapture FPS = 33\nCapture FPS = 27\nCapture FPS = 21\nCapture FPS = 26\nCapture FPS = 25\nCapture FPS = 22\nCapture FPS = 22\nCapture FPS = 21\nCapture FPS = 24\nCapture FPS = 22\nCapture FPS = 21\nCapture FPS = 25\nCapture FPS = 16\nCapture FPS = 14\nCapture FPS = 25\nCapture FPS = 22\nCapture FPS = 28\nCapture FPS = 23\nCapture FPS = 20\nCapture FPS = 19\nCapture FPS = 39\nCapture FPS = 12\nCapture FPS = 25\nCapture FPS = 21\nCapture FPS = 23\nCapture FPS = 20\nCapture FPS = 27\nCapture FPS = 16\nCapture FPS = 22\nCapture FPS = 33\nCapture FPS = 32\nCapture FPS = 32\nCapture FPS = 30\nCapture FPS = 29\nCapture FPS = 21\nCapture FPS = 25\nCapture FPS = 29\nCapture FPS = 23\nCapture FPS = 19\nCapture FPS = 27\nCapture FPS = 26\nCapture FPS = 26\nCapture FPS = 21\nCapture FPS = 23\nCapture FPS = 30\nCapture FPS = 31\nCapture FPS = 29\nCapture FPS = 23\nCapture FPS = 21\nCapture FPS = 38\nCapture FPS = 26\nCapture FPS = 32\nCapture FPS = 20\nCapture FPS = 24\nCapture FPS = 25\nCapture FPS = 21\nCapture FPS = 22\nCapture FPS = 21\nCapture FPS = 26\nCapture FPS = 36\nCapture FPS = 21\nCapture FPS = 15\nCapture FPS = 16\nCapture FPS = 20\nCapture FPS = 23\nCapture FPS = 24\nCapture FPS = 37\nCapture FPS = 27\nCapture FPS = 31\nCapture FPS = 28\nCapture FPS = 31\nCapture FPS = 22\nCapture FPS = 33\nCapture FPS = 28\nCapture FPS = 29\nCapture FPS = 26\nDataset size : 14500\nCapture FPS = 0\nCapture FPS = 18\nCapture FPS = 25\nCapture FPS = 27\nCapture FPS = 26\nCapture FPS = 42\nCapture FPS = 33\nCapture FPS = 28\nCapture FPS = 17\nCapture FPS = 23\nCapture FPS = 36\nCapture FPS = 17\nCapture FPS = 20\nCapture FPS = 26\nCapture FPS = 46\nCapture FPS = 28\nCapture FPS = 32\nCapture FPS = 23\nCapture FPS = 22\nCapture FPS = 21\nCapture FPS = 30\nCapture FPS = 36\nCapture FPS = 19\nCapture FPS = 30\nCapture FPS = 29\nCapture FPS = 24\nCapture FPS = 30\nCapture FPS = 24\nCapture FPS = 18\nCapture FPS = 27\nCapture FPS = 27\nCapture FPS = 21\nCapture FPS = 26\nCapture FPS = 28\nCapture FPS = 28\nCapture FPS = 27\nCapture FPS = 30\nCapture FPS = 25\nCapture FPS = 25\nCapture FPS = 27\nCapture FPS = 21\nCapture FPS = 58\nCapture FPS = 32\nCapture FPS = 31\nCapture FPS = 29\nCapture FPS = 28\nCapture FPS = 25\nCapture FPS = 32\nCapture FPS = 19\nCapture FPS = 23\nCapture FPS = 30\nCapture FPS = 36\nCapture FPS = 31\nCapture FPS = 29\nCapture FPS = 35\nCapture FPS = 29\nCapture FPS = 28\nCapture FPS = 31\nCapture FPS = 28\nCapture FPS = 31\nCapture FPS = 20\nCapture FPS = 23\nCapture FPS = 28\nCapture FPS = 27\nCapture FPS = 26\nCapture FPS = 25\nCapture FPS = 30\nCapture FPS = 29\nCapture FPS = 22\nCapture FPS = 29\nCapture FPS = 29\nCapture FPS = 24\nCapture FPS = 28\nCapture FPS = 31\nCapture FPS = 23\nCapture FPS = 26\nCapture FPS = 18\nCapture FPS = 22\nCapture FPS = 22\nCapture FPS = 25\nCapture FPS = 33\nCapture FPS = 32\nCapture FPS = 32\nCapture FPS = 34\nCapture FPS = 26\nCapture FPS = 18\nCapture FPS = 23\nCapture FPS = 18\nCapture FPS = 28\nCapture FPS = 31\nCapture FPS = 37\nCapture FPS = 35\nCapture FPS = 30\nCapture FPS = 26\nCapture FPS = 27\nCapture FPS = 28\nCapture FPS = 24\nCapture FPS = 24\nCapture FPS = 27\nCapture FPS = 22\nCapture FPS = 24\nCapture FPS = 28\nCapture FPS = 32\nCapture FPS = 30\nCapture FPS = 32\nCapture FPS = 22\nCapture FPS = 29\nCapture FPS = 30\nCapture FPS = 29\nCapture FPS = 26\nCapture FPS = 42\nCapture FPS = 28\nCapture FPS = 27\nCapture FPS = 29\nCapture FPS = 30\nCapture FPS = 27\nCapture FPS = 27\nCapture FPS = 25\nCapture FPS = 21\nCapture FPS = 21\nCapture FPS = 27\nCapture FPS = 26\nCapture FPS = 16\nCapture FPS = 22\nCapture FPS = 19\nCapture FPS = 26\nCapture FPS = 31\nCapture FPS = 34\nCapture FPS = 32\nCapture FPS = 30\nCapture FPS = 30\nCapture FPS = 29\nCapture FPS = 24\nCapture FPS = 19\nCapture FPS = 30\nCapture FPS = 23\nCapture FPS = 20\nCapture FPS = 30\nCapture FPS = 29\nCapture FPS = 27\nCapture FPS = 30\nCapture FPS = 20\nCapture FPS = 23\nCapture FPS = 25\nCapture FPS = 25\nCapture FPS = 39\nCapture FPS = 19\nCapture FPS = 30\nCapture FPS = 28\nCapture FPS = 26\nCapture FPS = 23\nCapture FPS = 21\nCapture FPS = 29\nCapture FPS = 30\nCapture FPS = 31\nCapture FPS = 32\nCapture FPS = 27\nCapture FPS = 61\nCapture FPS = 30\nCapture FPS = 29\nCapture FPS = 25\nCapture FPS = 23\nCapture FPS = 20\nCapture FPS = 24\nCapture FPS = 19\nCapture FPS = 28\nCapture FPS = 30\nCapture FPS = 29\nCapture FPS = 29\nCapture FPS = 28\nCapture FPS = 24\nCapture FPS = 30\nCapture FPS = 18\nCapture FPS = 26\nCapture FPS = 20\nCapture FPS = 29\nCapture FPS = 27\nCapture FPS = 19\nCapture FPS = 17\nCapture FPS = 23\nCapture FPS = 17\nCapture FPS = 21\nCapture FPS = 26\nCapture FPS = 22\nCapture FPS = 22\nCapture FPS = 30\nCapture FPS = 26\nCapture FPS = 22\nCapture FPS = 24\nCapture FPS = 27\nCapture FPS = 32\nCapture FPS = 35\nCapture FPS = 30\nCapture FPS = 29\nCapture FPS = 28\nCapture FPS = 19\nCapture FPS = 25\nCapture FPS = 18\nCapture FPS = 17\nCapture FPS = 29\nCapture FPS = 33\nCapture FPS = 32\nCapture FPS = 26\nCapture FPS = 25\nCapture FPS = 29\nCapture FPS = 24\nCapture FPS = 23\nCapture FPS = 27\nCapture FPS = 28\nCapture FPS = 33\nCapture FPS = 33\nCapture FPS = 27\nCapture FPS = 17\nCapture FPS = 25\nCapture FPS = 28\nCapture FPS = 25\nCapture FPS = 21\nCapture FPS = 24\nCapture FPS = 29\nCapture FPS = 25\nCapture FPS = 26\nCapture FPS = 25\nCapture FPS = 25\nCapture FPS = 32\nCapture FPS = 26\nCapture FPS = 26\nCapture FPS = 25\nCapture FPS = 32\nCapture FPS = 37\nCapture FPS = 25\nCapture FPS = 31\nCapture FPS = 17\nCapture FPS = 23\nCapture FPS = 23\nCapture FPS = 25\nCapture FPS = 31\nCapture FPS = 30\nCapture FPS = 32\nCapture FPS = 28\nCapture FPS = 28\nCapture FPS = 33\nCapture FPS = 24\nCapture FPS = 19\nCapture FPS = 31\nCapture FPS = 27\nCapture FPS = 22\nCapture FPS = 23\nCapture FPS = 28\nCapture FPS = 26\nCapture FPS = 26\nCapture FPS = 31\nCapture FPS = 30\nCapture FPS = 20\nCapture FPS = 24\nCapture FPS = 25\nCapture FPS = 37\nCapture FPS = 30\nCapture FPS = 28\nCapture FPS = 23\nCapture FPS = 25\nCapture FPS = 24\nCapture FPS = 29\nCapture FPS = 34\nCapture FPS = 22\nCapture FPS = 30\nCapture FPS = 32\nCapture FPS = 30\nCapture FPS = 27\nCapture FPS = 23\nCapture FPS = 24\nCapture FPS = 26\nCapture FPS = 29\nCapture FPS = 20\nCapture FPS = 24\nCapture FPS = 30\nCapture FPS = 34\nCapture FPS = 30\nCapture FPS = 33\nCapture FPS = 23\nCapture FPS = 28\nCapture FPS = 21\nCapture FPS = 25\nCapture FPS = 23\nCapture FPS = 29\nCapture FPS = 27\nCapture FPS = 31\nCapture FPS = 32\nCapture FPS = 28\nCapture FPS = 27\nCapture FPS = 20\nCapture FPS = 28\nCapture FPS = 22\nCapture FPS = 24\nCapture FPS = 27\nCapture FPS = 26\nCapture FPS = 20\nCapture FPS = 24\nCapture FPS = 20\nCapture FPS = 23\nCapture FPS = 27\nCapture FPS = 32\nCapture FPS = 26\nCapture FPS = 32\nCapture FPS = 25\nCapture FPS = 29\nCapture FPS = 13\nCapture FPS = 15\nCapture FPS = 29\nCapture FPS = 27\nCapture FPS = 37\nCapture FPS = 26\nCapture FPS = 36\nCapture FPS = 26\nCapture FPS = 23\nCapture FPS = 27\nCapture FPS = 34\nCapture FPS = 19\nCapture FPS = 24\nCapture FPS = 26\nCapture FPS = 49\nCapture FPS = 32\nCapture FPS = 25\nCapture FPS = 24\nCapture FPS = 25\nCapture FPS = 21\nCapture FPS = 21\nCapture FPS = 21\nCapture FPS = 29\nCapture FPS = 37\nCapture FPS = 32\nCapture FPS = 27\nCapture FPS = 19\nCapture FPS = 24\nCapture FPS = 24\nCapture FPS = 37\nCapture FPS = 25\nCapture FPS = 20\nCapture FPS = 34\nCapture FPS = 32\nCapture FPS = 32\nCapture FPS = 24\nCapture FPS = 29\nCapture FPS = 16\nCapture FPS = 25\nCapture FPS = 28\nCapture FPS = 17\nCapture FPS = 28\nCapture FPS = 32\nCapture FPS = 30\nCapture FPS = 23\nCapture FPS = 31\nCapture FPS = 17\nCapture FPS = 22\nCapture FPS = 27\nCapture FPS = 31\nCapture FPS = 22\nCapture FPS = 26\nCapture FPS = 27\nCapture FPS = 27\nCapture FPS = 23\nCapture FPS = 19\nCapture FPS = 25\nCapture FPS = 21\nCapture FPS = 22\nCapture FPS = 28\nCapture FPS = 32\nCapture FPS = 35\nCapture FPS = 27\nCapture FPS = 27\nCapture FPS = 33\nCapture FPS = 29\nCapture FPS = 32\nCapture FPS = 28\nCapture FPS = 21\nCapture FPS = 25\nCapture FPS = 41\nCapture FPS = 32\nCapture FPS = 25\nCapture FPS = 22\nCapture FPS = 28\nCapture FPS = 22\nCapture FPS = 26\nCapture FPS = 28\nCapture FPS = 25\nCapture FPS = 34\nCapture FPS = 32\nCapture FPS = 30\nCapture FPS = 30\nCapture FPS = 29\nCapture FPS = 18\nCapture FPS = 25\nCapture FPS = 18\nCapture FPS = 23\nCapture FPS = 22\nCapture FPS = 26\nCapture FPS = 29\nCapture FPS = 25\nCapture FPS = 28\nCapture FPS = 18\nCapture FPS = 29\nCapture FPS = 30\nCapture FPS = 22\nCapture FPS = 25\nCapture FPS = 40\nCapture FPS = 29\nCapture FPS = 27\nCapture FPS = 28\nCapture FPS = 30\nCapture FPS = 23\nCapture FPS = 45\nCapture FPS = 23\nCapture FPS = 42\nCapture FPS = 27\nCapture FPS = 43\nCapture FPS = 34\nCapture FPS = 29\nCapture FPS = 28\nCapture FPS = 29\nCapture FPS = 30\nCapture FPS = 28\nCapture FPS = 25\nCapture FPS = 16\nCapture FPS = 30\nCapture FPS = 24\nCapture FPS = 32\nCapture FPS = 30\nCapture FPS = 25\nCapture FPS = 19\nCapture FPS = 17\nCapture FPS = 16\nCapture FPS = 26\nCapture FPS = 34\nCapture FPS = 22\nCapture FPS = 32\nCapture FPS = 24\nCapture FPS = 18\nCapture FPS = 25\nCapture FPS = 22\nCapture FPS = 22\nCapture FPS = 25\nCapture FPS = 20\nCapture FPS = 35\nCapture FPS = 30\nCapture FPS = 29\nCapture FPS = 36\nCapture FPS = 22\nCapture FPS = 27\nCapture FPS = 30\nCapture FPS = 23\nCapture FPS = 28\nCapture FPS = 30\nCapture FPS = 30\nCapture FPS = 19\nCapture FPS = 18\nCapture FPS = 18\nCapture FPS = 18\nCapture FPS = 26\nCapture FPS = 23\nCapture FPS = 27\nCapture FPS = 19\nCapture FPS = 14\nCapture FPS = 26\nCapture FPS = 16\nCapture FPS = 23\nCapture FPS = 33\nCapture FPS = 37\nCapture FPS = 28\nCapture FPS = 21\nCapture FPS = 19\nCapture FPS = 24\nCapture FPS = 18\nCapture FPS = 26\nCapture FPS = 21\nCapture FPS = 22\nCapture FPS = 32\nCapture FPS = 22\nCapture FPS = 30\nCapture FPS = 24\nCapture FPS = 20\nCapture FPS = 24\nCapture FPS = 24\nCapture FPS = 26\nCapture FPS = 30\nCapture FPS = 33\nCapture FPS = 20\nCapture FPS = 25\nCapture FPS = 17\nCapture FPS = 25\nCapture FPS = 41\nCapture FPS = 24\nCapture FPS = 30\nCapture FPS = 31\nCapture FPS = 22\nCapture FPS = 18\nCapture FPS = 15\nCapture FPS = 24\nCapture FPS = 16\nCapture FPS = 31\nCapture FPS = 26\nCapture FPS = 32\nDataset size : 15000\n"
    }
   ],
   "source": [
    "import numpy as np\n",
    "import cv2\n",
    "import time\n",
    "from getkeys import key_check\n",
    "import os\n",
    "from mss import mss\n",
    "\n",
    "START_TIME = time.time()\n",
    "\n",
    "def keys_to_output(keys):\n",
    "    # [A, W, D] <- only these key combos gonna be there\n",
    "    output = [0 ,0, 0]  # not doing anything\n",
    "                        # when any is 1, we do that command\n",
    "    if 'A' in keys:\n",
    "        output[0] = 1\n",
    "    elif 'D' in keys:\n",
    "        output[2] = 1\n",
    "    elif 'W' in keys:\n",
    "        output[1] = 1\n",
    "    return output\n",
    "\n",
    "for i in list(range(0, 4))[::-1]:\n",
    "    print(i + 1)\n",
    "    time.sleep(1)\n",
    "\n",
    "\n",
    "\n",
    "monitor = {'top' : 40, 'left' : 0, 'width' : 800, 'height' : 600}\n",
    "sct = mss()\n",
    "last_time = time.time()\n",
    "\n",
    "# We will keep appending training data\n",
    "filename = 'training_data3.npy'      # numpy file\n",
    "training_data = []\n",
    "if os.path.isfile(filename):\n",
    "    print('File exists, loading Previous data!')\n",
    "    training_data = list(np.load(filename, allow_pickle = True))\n",
    "else:\n",
    "    print('File does not exist, starting fresh')\n",
    "\n",
    "# in this main loop we do precessing\n",
    "while(True):\n",
    "    if len(training_data) >= 40000:\n",
    "        print('Create new npy file')\n",
    "        break\n",
    "    sct_image = sct.grab(monitor)\n",
    "    screen = np.array(sct_image)\n",
    "    screen = cv2.cvtColor(screen, cv2.COLOR_BGR2GRAY)   # We want the NN to play irrespective of colors\n",
    "    screen = cv2.resize(screen, (200, 150))\n",
    "    keys = key_check()\n",
    "    output = keys_to_output(keys)\n",
    "    training_data.append([screen, output])\n",
    "    print(\"Capture FPS = \" + str(int(1/(time.time() - last_time))))\n",
    "    last_time = time.time()\n",
    "\n",
    "    if len(training_data) % 500 == 0:\n",
    "        print('Dataset size : ' + str(len(training_data)))\n",
    "        np.save(filename, training_data[:-150])\n",
    "    if (time.time() - START_TIME) >= 300:\n",
    "        break"
   ]
  },
  {
   "cell_type": "code",
   "execution_count": 4,
   "metadata": {},
   "outputs": [
    {
     "data": {
      "text/plain": "14850"
     },
     "execution_count": 4,
     "metadata": {},
     "output_type": "execute_result"
    }
   ],
   "source": [
    "len(list(np.load(filename, allow_pickle=True)))"
   ]
  },
  {
   "cell_type": "code",
   "execution_count": null,
   "metadata": {},
   "outputs": [],
   "source": []
  }
 ]
}